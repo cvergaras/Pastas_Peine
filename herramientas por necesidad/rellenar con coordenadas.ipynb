{
 "cells": [
  {
   "cell_type": "markdown",
   "metadata": {},
   "source": [
    "programa para hacer la lista de pozos "
   ]
  },
  {
   "cell_type": "code",
   "execution_count": 13,
   "metadata": {},
   "outputs": [
    {
     "name": "stdout",
     "output_type": "stream",
     "text": [
      "El archivo Excel ha sido creado en: C:\\Users\\alvar\\Desktop\\proyecto de tesis Salar atacama\\datos sqm\\Pozos bombeo y reinyeccion sqm\\Bombeo mop\\lista_pozos.xlsx\n"
     ]
    }
   ],
   "source": [
    "import os\n",
    "import pandas as pd\n",
    "\n",
    "ruta_carpeta = input(\"Ingrese la ruta a los archivos: \")\n",
    "\n",
    "def crear_lista_archivos_excel(ruta_carpeta):\n",
    "    # Obtener la lista de archivos en la carpeta\n",
    "    archivos = os.listdir(ruta_carpeta)\n",
    "    \n",
    "    # Filtrar solo archivos, excluyendo directorios\n",
    "    archivos = [archivo for archivo in archivos if os.path.isfile(os.path.join(ruta_carpeta, archivo))]\n",
    "    # Eliminar la extensión de los nombres de los archivos\n",
    "    archivos = [os.path.splitext(archivo)[0] for archivo in archivos]\n",
    "    # Crear un DataFrame con los nombres de los archivos\n",
    "    datos = {\n",
    "        'Nombre Pozo': archivos,\n",
    "        'Coordenada Este': ['' for _ in archivos],  # Columnas vacías para coordenadas\n",
    "        'Coordenada Norte': ['' for _ in archivos]\n",
    "    }\n",
    "    \n",
    "    df = pd.DataFrame(datos)\n",
    "    \n",
    "    # Definir la ruta del archivo de Excel\n",
    "    ruta_excel = os.path.join(ruta_carpeta, 'lista_pozos.xlsx')\n",
    "    \n",
    "    try:\n",
    "        # Guardar el DataFrame en un archivo de Excel\n",
    "        df.to_excel(ruta_excel, index=False)\n",
    "        print(f\"El archivo Excel ha sido creado en: {ruta_excel}\")\n",
    "    except PermissionError:\n",
    "        print(f\"Error: No se pudo escribir en el archivo {ruta_excel}. Verifique los permisos y que el archivo no esté abierto en otro programa.\")\n",
    "\n",
    "# Ejemplo de uso\n",
    "crear_lista_archivos_excel(ruta_carpeta)"
   ]
  },
  {
   "cell_type": "markdown",
   "metadata": {},
   "source": [
    "llenar el archivo creado con las coordenadas proporcionadas por sqm"
   ]
  },
  {
   "cell_type": "code",
   "execution_count": null,
   "metadata": {},
   "outputs": [],
   "source": []
  }
 ],
 "metadata": {
  "kernelspec": {
   "display_name": "base",
   "language": "python",
   "name": "python3"
  },
  "language_info": {
   "codemirror_mode": {
    "name": "ipython",
    "version": 3
   },
   "file_extension": ".py",
   "mimetype": "text/x-python",
   "name": "python",
   "nbconvert_exporter": "python",
   "pygments_lexer": "ipython3",
   "version": "3.12.7"
  }
 },
 "nbformat": 4,
 "nbformat_minor": 2
}
